{
 "cells": [
  {
   "cell_type": "markdown",
   "metadata": {},
   "source": [
    "# Music playlist database"
   ]
  },
  {
   "cell_type": "markdown",
   "metadata": {},
   "source": [
    "The project relies on the Chinook playlist database provided by Udacity. It answers three simple questions to show my proficiency in SQL for data mining. Here is the ERD of the database in order to understand how tables are joined to one another: "
   ]
  },
  {
   "attachments": {},
   "cell_type": "markdown",
   "metadata": {},
   "source": [
    "![ERD-Chinook.png](https://loicchamplong.com/wp-content/uploads/2020/03/ERD-Chinook.png)"
   ]
  },
  {
   "cell_type": "markdown",
   "metadata": {},
   "source": [
    "## What are the three most preferred genres?\n"
   ]
  },
  {
   "cell_type": "code",
   "execution_count": null,
   "metadata": {},
   "outputs": [],
   "source": [
    "SELECT\n",
    "\n",
    "  music_type,\n",
    "\n",
    "  SUM(avg_total_sales) AS sum_avg_total_sales_by_genre,\n",
    "\n",
    "  CASE\n",
    "\n",
    "    WHEN SUM(avg_total_sales) >= 20 THEN 'Top'\n",
    "\n",
    "    WHEN SUM(avg_total_sales) > 10 AND\n",
    "\n",
    "      SUM(avg_total_sales) <= 20 THEN 'Medium'\n",
    "\n",
    "    ELSE 'Low'\n",
    "\n",
    "  END AS level_sales\n",
    "\n",
    "FROM (SELECT DISTINCT\n",
    "\n",
    "  Artist.Name AS artist_name,\n",
    "\n",
    "  Genre.Name AS music_type,\n",
    "\n",
    "  COUNT(Album.AlbumId) AS total_album,\n",
    "\n",
    "  AVG(InvoiceLine.UnitPrice * InvoiceLine.Quantity) AS avg_total_sales\n",
    "\n",
    "FROM Artist\n",
    "\n",
    "JOIN Album\n",
    "\n",
    "  ON Artist.ArtistId = Album.ArtistId\n",
    "\n",
    "JOIN Track\n",
    "\n",
    "  ON Album.AlbumId = Track.AlbumId\n",
    "\n",
    "JOIN Genre\n",
    "\n",
    "  ON Track.GenreId = Genre.GenreId\n",
    "\n",
    "JOIN InvoiceLine\n",
    "\n",
    "  ON Track.TrackId = InvoiceLine.TrackId\n",
    "\n",
    "JOIN Invoice\n",
    "\n",
    "  ON InvoiceLine.InvoiceId = Invoice.InvoiceId\n",
    "\n",
    "GROUP BY Artist.Name) sub\n",
    "\n",
    "GROUP BY music_type\n",
    "\n",
    "ORDER BY sum_avg_total_sales_by_genre DESC;"
   ]
  },
  {
   "attachments": {},
   "cell_type": "markdown",
   "metadata": {},
   "source": [
    "![Screen-Shot-2020-03-21-at-12.50.11-PM.png](https://loicchamplong.com/wp-content/uploads/2020/03/Screen-Shot-2020-03-21-at-12.50.11-PM.png)"
   ]
  },
  {
   "cell_type": "markdown",
   "metadata": {},
   "source": [
    "We looked into the Chinook database to find out what was the volume of sales for each genre and found out what was the most important. It turns out that Rock is by far the most popular music with an average of 47.52 USD in the total of sales. \n",
    "\n",
    "It is almost 70 percent more than their second most profitable genre: Classical (32,67 USD average). The third most popular genre is Latin with 23,76 USD on average. \n",
    "\n",
    "It is an important insight in terms of sales and marketing efforts, the company can put more efforts and budget into the most popular genres to boost the sales. "
   ]
  },
  {
   "attachments": {},
   "cell_type": "markdown",
   "metadata": {},
   "source": [
    "![Screen-Shot-2020-03-21-at-12.50.11-PM.png](https://loicchamplong.com/wp-content/uploads/2020/03/Screen-Shot-2020-03-21-at-12.27.19-PM.png)"
   ]
  },
  {
   "cell_type": "markdown",
   "metadata": {},
   "source": [
    "## Which country was the best buyer in 2009?"
   ]
  },
  {
   "cell_type": "code",
   "execution_count": null,
   "metadata": {},
   "outputs": [],
   "source": [
    "SELECT\n",
    "\n",
    "  Customer.Country,\n",
    "\n",
    "  SUM(InvoiceLine.UnitPrice * InvoiceLine.Quantity) AS Total_sales\n",
    "\n",
    "FROM Artist\n",
    "\n",
    "JOIN Album\n",
    "\n",
    "  ON Artist.ArtistId = Album.ArtistId\n",
    "\n",
    "JOIN Track\n",
    "\n",
    "  ON Album.AlbumId = Track.AlbumId\n",
    "\n",
    "JOIN Genre\n",
    "\n",
    "  ON Track.GenreId = Genre.GenreId\n",
    "\n",
    "JOIN InvoiceLine\n",
    "\n",
    "  ON Track.TrackId = InvoiceLine.TrackId\n",
    "\n",
    "JOIN Invoice\n",
    "\n",
    "  ON InvoiceLine.InvoiceId = Invoice.InvoiceId\n",
    "\n",
    "JOIN Customer\n",
    "\n",
    "  ON Invoice.CustomerId = Customer.CustomerId\n",
    "\n",
    "WHERE Invoice.InvoiceDate BETWEEN '2009-01-01' AND '2009-12-26'\n",
    "\n",
    "GROUP BY 1\n",
    "\n",
    "ORDER BY 2 DESC;"
   ]
  },
  {
   "attachments": {},
   "cell_type": "markdown",
   "metadata": {},
   "source": [
    "![Screen-Shot-2020-03-21-at-12.50.11-PM.png](https://loicchamplong.com/wp-content/uploads/2020/03/Screen-Shot-2020-03-21-at-12.34.50-PM.png)"
   ]
  },
  {
   "cell_type": "markdown",
   "metadata": {},
   "source": [
    "Looking at the total sales in 2009 from our InvoiceLine database, it turns out that the United-States were far ahead in terms of turnover with 104 USD in total. It is 54,8 percent more than their second market, Canada (57 USD). It makes the USA a major market in 2009 in terms of sales. \n",
    "\n",
    "If the company wished to organize a concert with musics related to the 2000s, we can tell them that the USA, Canada and Germany should be the top 3 regions to put their marketing efforts. "
   ]
  },
  {
   "attachments": {},
   "cell_type": "markdown",
   "metadata": {},
   "source": [
    "![SQL-Chinook-insight1.png](https://loicchamplong.com/wp-content/uploads/2020/03/SQL-Chinook-insight1.png)"
   ]
  },
  {
   "cell_type": "markdown",
   "metadata": {},
   "source": [
    "## Which was the most popular album ever sold on the playlist?"
   ]
  },
  {
   "cell_type": "code",
   "execution_count": null,
   "metadata": {},
   "outputs": [],
   "source": [
    "SELECT Genre.Name AS Music_Genre, \n",
    "Artist.Name AS Artist_Name, \n",
    "Album.Title AS Album_Title, \n",
    "SUM (InvoiceLine.InvoiceId) AS Total_Buy\n",
    "\n",
    "FROM Artist\n",
    "\n",
    "JOIN Album\n",
    "\n",
    "  ON Artist.ArtistId = Album.ArtistId\n",
    "\n",
    "JOIN Track\n",
    "\n",
    "  ON Album.AlbumId = Track.AlbumId\n",
    "\n",
    "JOIN Genre\n",
    "\n",
    "  ON Track.GenreId = Genre.GenreId\n",
    "\n",
    "JOIN InvoiceLine\n",
    "\n",
    "  ON Track.TrackId = InvoiceLine.TrackId\n",
    "\n",
    "JOIN Invoice\n",
    "\n",
    "  ON InvoiceLine.InvoiceId = Invoice.InvoiceId\n",
    "\n",
    "JOIN Customer\n",
    "\n",
    "   ON Invoice.CustomerId = Customer.CustomerId\n",
    "\n",
    " GROUP BY Music_Genre, Artist_Name, Album_Title\n",
    "\n",
    " ORDER BY Total_Buy DESC\n",
    "\n",
    "LIMIT 15;"
   ]
  },
  {
   "attachments": {},
   "cell_type": "markdown",
   "metadata": {},
   "source": [
    "![Screen-Shot-2020-03-21-at-12.55.52-PM.png](https://loicchamplong.com/wp-content/uploads/2020/03/Screen-Shot-2020-03-21-at-12.55.52-PM.png)"
   ]
  },
  {
   "cell_type": "markdown",
   "metadata": {},
   "source": [
    "Looking into the Chinook database, we asked what was the best album ever sold since the beginning. It turns out that the album with the most sales is My Generation - The Very Best Of The Who from the Group The Who, released in 1996. It is a Rock Type music and collaborates or other insights as Rock being the most popular genre in the database.\n",
    "\n",
    "The turnover generated by My Generation - The Very Best Of The Who was $5,285, it is 83% more than their second best album Acústico MTV (4,409 USD) of Latin genre.\n",
    "\n",
    "This could be useful from a marketing point of view to promote other albums from the group."
   ]
  },
  {
   "attachments": {},
   "cell_type": "markdown",
   "metadata": {},
   "source": [
    "![Screen-Shot-2020-03-21-at-12.58.22-PM.png](https://loicchamplong.com/wp-content/uploads/2020/03/Screen-Shot-2020-03-21-at-12.58.22-PM.png)"
   ]
  },
  {
   "cell_type": "markdown",
   "metadata": {},
   "source": [
    "## Who was the employee with the most buys and their favorite genre?"
   ]
  },
  {
   "cell_type": "code",
   "execution_count": null,
   "metadata": {},
   "outputs": [],
   "source": [
    "SELECT DISTINCT\n",
    "\n",
    "  Employee.FirstName,\n",
    "\n",
    "  Employee.LastName,\n",
    "\n",
    "  Genre.Name AS Music_Type,\n",
    "\n",
    "  SUM(InvoiceLine.UnitPrice * InvoiceLine.Quantity) AS Total_buy\n",
    "\n",
    "FROM Artist\n",
    "\n",
    "JOIN Album\n",
    "\n",
    "  ON Artist.ArtistId = Album.ArtistId\n",
    "\n",
    "JOIN Track\n",
    "\n",
    "  ON Album.AlbumId = Track.AlbumId\n",
    "\n",
    "JOIN Genre\n",
    "\n",
    "  ON Track.GenreId = Genre.GenreId\n",
    "\n",
    "JOIN InvoiceLine\n",
    "\n",
    "  ON Track.TrackId = InvoiceLine.TrackId\n",
    "\n",
    "JOIN Invoice\n",
    "\n",
    "  ON InvoiceLine.InvoiceId = Invoice.InvoiceId\n",
    "\n",
    "JOIN Customer\n",
    "\n",
    "  ON Invoice.CustomerId = Customer.CustomerId\n",
    "\n",
    "JOIN Employee\n",
    "\n",
    "  ON Customer.SupportRepId = EmployeeId\n",
    "\n",
    "GROUP BY 1,\n",
    "\n",
    "         2,\n",
    "\n",
    "         3\n",
    "\n",
    "ORDER BY 4 DESC;"
   ]
  },
  {
   "attachments": {},
   "cell_type": "markdown",
   "metadata": {},
   "source": [
    "![Screen-Shot-2020-03-21-at-12.55.52-PM.png](https://loicchamplong.com/wp-content/uploads/2020/03/Screen-Shot-2020-03-21-at-1.01.07-PM.png)"
   ]
  },
  {
   "cell_type": "markdown",
   "metadata": {},
   "source": [
    "We asked if employees were also customers. It turns out that out of the 8 employees of the company, 3 (name on the bar charts) from the sales team bought different kind of music genres.\n",
    "\n",
    "The top three sales were for rock music and Jane Peacock was the employee with the most buys with $ 301 in this music genre.\n",
    "\n",
    "If the company was to start an internal communication campaign, these employees could be rewarded with some kind of free pass to buy a rock album of their choice for free for instance."
   ]
  },
  {
   "attachments": {},
   "cell_type": "markdown",
   "metadata": {},
   "source": [
    "![Screen-Shot-2020-03-21-at-12.58.22-PM.png](https://loicchamplong.com/wp-content/uploads/2020/03/Screen-Shot-2020-03-21-at-1.03.15-PM.png)"
   ]
  },
  {
   "cell_type": "code",
   "execution_count": null,
   "metadata": {},
   "outputs": [],
   "source": []
  }
 ],
 "metadata": {
  "kernelspec": {
   "display_name": "Python 3",
   "language": "python",
   "name": "python3"
  },
  "language_info": {
   "codemirror_mode": {
    "name": "ipython",
    "version": 3
   },
   "file_extension": ".py",
   "mimetype": "text/x-python",
   "name": "python",
   "nbconvert_exporter": "python",
   "pygments_lexer": "ipython3",
   "version": "3.7.6"
  }
 },
 "nbformat": 4,
 "nbformat_minor": 4
}
